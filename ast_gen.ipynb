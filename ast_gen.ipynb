{
 "cells": [
  {
   "cell_type": "code",
   "execution_count": 2,
   "metadata": {},
   "outputs": [
    {
     "ename": "NameError",
     "evalue": "name 'files' is not defined",
     "output_type": "error",
     "traceback": [
      "\u001b[1;31m---------------------------------------------------------------------------\u001b[0m",
      "\u001b[1;31mNameError\u001b[0m                                 Traceback (most recent call last)",
      "Cell \u001b[1;32mIn[2], line 7\u001b[0m\n\u001b[0;32m      3\u001b[0m \u001b[38;5;28;01mimport\u001b[39;00m \u001b[38;5;21;01mjson\u001b[39;00m\n\u001b[0;32m      4\u001b[0m \u001b[38;5;66;03m# from google.colab import files\u001b[39;00m\n\u001b[0;32m      5\u001b[0m \n\u001b[0;32m      6\u001b[0m \u001b[38;5;66;03m# Upload the processed CSV file\u001b[39;00m\n\u001b[1;32m----> 7\u001b[0m uploaded \u001b[38;5;241m=\u001b[39m \u001b[43mfiles\u001b[49m\u001b[38;5;241m.\u001b[39mupload()  \u001b[38;5;66;03m# Upload your file\u001b[39;00m\n\u001b[0;32m      9\u001b[0m \u001b[38;5;66;03m# Load dataset\u001b[39;00m\n\u001b[0;32m     10\u001b[0m file_path \u001b[38;5;241m=\u001b[39m \u001b[38;5;28mlist\u001b[39m(uploaded\u001b[38;5;241m.\u001b[39mkeys())[\u001b[38;5;241m0\u001b[39m]  \u001b[38;5;66;03m# Get the uploaded filename dynamically\u001b[39;00m\n",
      "\u001b[1;31mNameError\u001b[0m: name 'files' is not defined"
     ]
    }
   ],
   "source": [
    "import pandas as pd\n",
    "import ast\n",
    "import json\n",
    "# from google.colab import files\n",
    "\n",
    "# Upload the processed CSV file\n",
    "uploaded = files.upload()  # Upload your file\n",
    "\n",
    "# Load dataset\n",
    "file_path = list(uploaded.keys())[0]  # Get the uploaded filename dynamically\n",
    "df = pd.read_csv(file_path)\n",
    "\n",
    "class ASTNode:\n",
    "    def __init__(self, name, children=None):\n",
    "        self.name = name\n",
    "        self.children = children if children else []\n",
    "\n",
    "    def add_child(self, child):\n",
    "        self.children.append(child)\n",
    "\n",
    "    def to_dict(self):\n",
    "        return {\n",
    "            \"name\": self.name,\n",
    "            \"children\": [child.to_dict() for child in self.children]\n",
    "        }\n",
    "\n",
    "def build_ast_from_data(data):\n",
    "    root = ASTNode(\"Root\")\n",
    "\n",
    "    for col in data.columns:\n",
    "        col_node = ASTNode(col)\n",
    "        root.add_child(col_node)\n",
    "\n",
    "        for value in data[col].unique():\n",
    "            value_node = ASTNode(str(value))\n",
    "            col_node.add_child(value_node)\n",
    "\n",
    "    return root\n",
    "\n",
    "# Convert AST to JSON for structured output\n",
    "def ast_to_json(ast_root):\n",
    "    return json.dumps(ast_root.to_dict(), indent=4)\n",
    "\n",
    "# Generate AST\n",
    "ast_root = build_ast_from_data(df)\n",
    "ast_json = ast_to_json(ast_root)\n",
    "\n",
    "# Convert JSON to a DataFrame format\n",
    "def ast_to_dataframe(ast_root, parent_name=\"\"):\n",
    "    rows = []\n",
    "    node_name = f\"{parent_name}/{ast_root.name}\" if parent_name else ast_root.name\n",
    "    rows.append({\"Node\": node_name, \"Parent\": parent_name if parent_name else None})\n",
    "\n",
    "    for child in ast_root.children:\n",
    "        rows.extend(ast_to_dataframe(child, node_name))\n",
    "\n",
    "    return rows\n",
    "\n",
    "# Convert AST to DataFrame\n",
    "ast_df = pd.DataFrame(ast_to_dataframe(ast_root))\n",
    "\n",
    "# Save the processed DataFrame to a CSV file\n",
    "output_filename = \"structured_ast.csv\"\n",
    "ast_df.to_csv(output_filename, index=False)\n",
    "\n",
    "# Download the structured AST\n",
    "files.download(output_filename)\n",
    "\n",
    "print(\"AST stored successfully in structured_ast.csv\")\n"
   ]
  }
 ],
 "metadata": {
  "kernelspec": {
   "display_name": "Python 3",
   "language": "python",
   "name": "python3"
  },
  "language_info": {
   "codemirror_mode": {
    "name": "ipython",
    "version": 3
   },
   "file_extension": ".py",
   "mimetype": "text/x-python",
   "name": "python",
   "nbconvert_exporter": "python",
   "pygments_lexer": "ipython3",
   "version": "3.12.4"
  }
 },
 "nbformat": 4,
 "nbformat_minor": 2
}
